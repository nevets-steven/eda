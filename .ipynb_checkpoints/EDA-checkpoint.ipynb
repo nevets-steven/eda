{
 "cells": [
  {
   "cell_type": "code",
   "execution_count": 1,
   "id": "1fa204ee",
   "metadata": {},
   "outputs": [],
   "source": [
    "import pandas as pd\n",
    "import seaborn as sns\n",
    "import matplotlib.pyplot as plt"
   ]
  },
  {
   "cell_type": "code",
   "execution_count": 2,
   "id": "3b5f3c18",
   "metadata": {
    "scrolled": true
   },
   "outputs": [
    {
     "data": {
      "text/html": [
       "<div>\n",
       "<style scoped>\n",
       "    .dataframe tbody tr th:only-of-type {\n",
       "        vertical-align: middle;\n",
       "    }\n",
       "\n",
       "    .dataframe tbody tr th {\n",
       "        vertical-align: top;\n",
       "    }\n",
       "\n",
       "    .dataframe thead th {\n",
       "        text-align: right;\n",
       "    }\n",
       "</style>\n",
       "<table border=\"1\" class=\"dataframe\">\n",
       "  <thead>\n",
       "    <tr style=\"text-align: right;\">\n",
       "      <th></th>\n",
       "      <th>Number of Sales</th>\n",
       "    </tr>\n",
       "  </thead>\n",
       "  <tbody>\n",
       "    <tr>\n",
       "      <th>0</th>\n",
       "      <td>38</td>\n",
       "    </tr>\n",
       "    <tr>\n",
       "      <th>1</th>\n",
       "      <td>29</td>\n",
       "    </tr>\n",
       "    <tr>\n",
       "      <th>2</th>\n",
       "      <td>48</td>\n",
       "    </tr>\n",
       "    <tr>\n",
       "      <th>3</th>\n",
       "      <td>29</td>\n",
       "    </tr>\n",
       "    <tr>\n",
       "      <th>4</th>\n",
       "      <td>32</td>\n",
       "    </tr>\n",
       "    <tr>\n",
       "      <th>...</th>\n",
       "      <td>...</td>\n",
       "    </tr>\n",
       "    <tr>\n",
       "      <th>360</th>\n",
       "      <td>44</td>\n",
       "    </tr>\n",
       "    <tr>\n",
       "      <th>361</th>\n",
       "      <td>46</td>\n",
       "    </tr>\n",
       "    <tr>\n",
       "      <th>362</th>\n",
       "      <td>39</td>\n",
       "    </tr>\n",
       "    <tr>\n",
       "      <th>363</th>\n",
       "      <td>37</td>\n",
       "    </tr>\n",
       "    <tr>\n",
       "      <th>364</th>\n",
       "      <td>43</td>\n",
       "    </tr>\n",
       "  </tbody>\n",
       "</table>\n",
       "<p>365 rows × 1 columns</p>\n",
       "</div>"
      ],
      "text/plain": [
       "     Number of Sales\n",
       "0                 38\n",
       "1                 29\n",
       "2                 48\n",
       "3                 29\n",
       "4                 32\n",
       "..               ...\n",
       "360               44\n",
       "361               46\n",
       "362               39\n",
       "363               37\n",
       "364               43\n",
       "\n",
       "[365 rows x 1 columns]"
      ]
     },
     "execution_count": 2,
     "metadata": {},
     "output_type": "execute_result"
    }
   ],
   "source": [
    "sales = [38, 29, 48, 29, 32, 37, 18, 38, 14, 13, 30, 26, 48, 15, 35, 28, 18, 31, 24, 33, 25, \n",
    "          13, 32, 37, 39, 41, 38, 40, 18, 35, 18, 12, 27, 43, 22, 38, 23, 37, 27, 12, 12, 37, \n",
    "          15, 30, 28, 24, 12, 34, 17, 32, 16, 14, 18, 40, 23, 20, 19, 47, 44, 11, 35, 16, 15, \n",
    "          26, 15, 35, 17, 30, 19, 38, 34, 28, 29, 25, 21, 49, 43, 42, 24, 20, 10, 23, 10, 28, \n",
    "          24, 24, 15, 46, 41, 14, 17, 16, 39, 32, 36, 18, 24, 40, 45, 27, 39, 21, 19, 10, 12, \n",
    "          10, 39, 19, 45, 19, 46, 14, 15, 12, 36, 10, 48, 26, 49, 33, 39, 34, 35, 28, 38, 35, \n",
    "          14, 31, 31, 35, 46, 39, 38, 16, 47, 10, 33, 22, 22, 49, 46, 46, 43, 19, 49, 21, 34, \n",
    "          45, 26, 43, 18, 42, 12, 41, 21, 17, 40, 23, 25, 44, 49, 29, 28, 38, 14, 22, 11, 24, \n",
    "          14, 22, 39, 20, 29, 24, 18, 37, 30, 34, 45, 21, 43, 22, 37, 17, 26, 35, 43, 38, 47, \n",
    "          30, 25, 25, 48, 15, 40, 17, 41, 14, 22, 22, 35, 32, 12, 17, 40, 19, 33, 44, 16, 45, \n",
    "          20, 20, 42, 21, 34, 26, 23, 16, 39, 45, 29, 35, 23, 13, 49, 45, 15, 47, 10, 39, 46, \n",
    "          19, 42, 24, 27, 27, 43, 36, 12, 46, 11, 15, 32, 17, 45, 26, 11, 37, 37, 10, 47, 12, \n",
    "          45, 11, 19, 20, 45, 38, 33, 15, 42, 47, 10, 29, 37, 43, 27, 39, 14, 19, 23, 26, 21, \n",
    "          29, 11, 26, 23, 24, 38, 17, 13, 41, 43, 12, 32, 48, 14, 29, 28, 18, 34, 43, 13, 11, \n",
    "          17, 42, 12, 41, 11, 38, 36, 32, 24, 44, 41, 20, 30, 28, 39, 25, 48, 44, 35, 26, 12, \n",
    "          39, 23, 30, 27, 36, 49, 30, 28, 18, 24, 36, 28, 17, 22, 12, 33, 14, 25, 42, 32, 30, \n",
    "          33, 19, 12, 48, 37, 35, 32, 14, 12, 12, 26, 16, 17, 48, 49, 27, 35, 45, 37, 23, 12, \n",
    "          21, 28, 16, 44, 46, 39, 37, 43]\n",
    "\n",
    "df = pd.DataFrame({'Number of Sales': sales})\n",
    "df"
   ]
  },
  {
   "cell_type": "code",
   "execution_count": 3,
   "id": "ee1880b8",
   "metadata": {
    "scrolled": true
   },
   "outputs": [
    {
     "data": {
      "image/png": "[encoded data removed]",
      "text/plain": [
       "<Figure size 640x480 with 1 Axes>"
      ]
     },
     "metadata": {},
     "output_type": "display_data"
    }
   ],
   "source": [
    "sns.histplot(data=df, x='Number of Sales', bins=5).set_ylabel('Daily Sales Count')\n",
    "plt.show()"
   ]
  },
  {
   "cell_type": "code",
   "execution_count": null,
   "id": "7a226245",
   "metadata": {
    "scrolled": true
   },
   "outputs": [],
   "source": []
  },
  {
   "cell_type": "code",
   "execution_count": null,
   "id": "182424d2",
   "metadata": {},
   "outputs": [],
   "source": []
  }
 ],
 "metadata": {
  "kernelspec": {
   "display_name": "Python 3 (ipykernel)",
   "language": "python",
   "name": "python3"
  },
  "language_info": {
   "codemirror_mode": {
    "name": "ipython",
    "version": 3
   },
   "file_extension": ".py",
   "mimetype": "text/x-python",
   "name": "python",
   "nbconvert_exporter": "python",
   "pygments_lexer": "ipython3",
   "version": "3.9.13"
  }
 },
 "nbformat": 4,
 "nbformat_minor": 5
}
